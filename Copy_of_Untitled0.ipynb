{
  "nbformat": 4,
  "nbformat_minor": 0,
  "metadata": {
    "colab": {
      "provenance": [],
      "gpuType": "T4",
      "include_colab_link": true
    },
    "kernelspec": {
      "name": "python3",
      "display_name": "Python 3"
    },
    "language_info": {
      "name": "python"
    },
    "accelerator": "GPU"
  },
  "cells": [
    {
      "cell_type": "markdown",
      "metadata": {
        "id": "view-in-github",
        "colab_type": "text"
      },
      "source": [
        "<a href=\"https://colab.research.google.com/github/yuukun123/Python/blob/master/Copy_of_Untitled0.ipynb\" target=\"_parent\"><img src=\"https://colab.research.google.com/assets/colab-badge.svg\" alt=\"Open In Colab\"/></a>"
      ]
    },
    {
      "cell_type": "code",
      "execution_count": 4,
      "metadata": {
        "id": "uNSaEYpGofGR",
        "outputId": "23d0589b-b764-4637-a55c-12807639e8f8",
        "colab": {
          "base_uri": "https://localhost:8080/"
        }
      },
      "outputs": [
        {
          "output_type": "stream",
          "name": "stdout",
          "text": [
            "Mounted at /content/drive\n"
          ]
        }
      ],
      "source": [
        "import pandas as pd\n",
        "import matplotlib.pyplot as plt\n",
        "import seaborn as sns\n",
        "import numpy as np\n",
        "\n",
        "from google.colab import drive\n",
        "drive.mount('/content/drive')\n",
        "\n",
        "# Tùy chỉnh để hiển thị biểu đồ đẹp hơn\n",
        "sns.set(style=\"whitegrid\")"
      ]
    },
    {
      "cell_type": "code",
      "source": [
        "df = pd.read_excel(\"/content/drive/MyDrive/dataset_osfstorage-archive/NormingData/Final_Cleaned_Database.xlsx\")\n",
        "print(df.to_string())"
      ],
      "metadata": {
        "id": "MpRpabBMoeWg"
      },
      "execution_count": null,
      "outputs": []
    },
    {
      "cell_type": "code",
      "source": [
        "# Đường dẫn file\n",
        "file_path = \"/content/drive/MyDrive/dataset_osfstorage-archive/NormingData/DelawarePainDatabase_SecondaryDatabase_FaceGenCharacterization.xlsx\"\n",
        "xls = pd.ExcelFile(file_path)"
      ],
      "metadata": {
        "id": "mKFpGS_9a3H9"
      },
      "execution_count": 5,
      "outputs": []
    },
    {
      "cell_type": "markdown",
      "source": [
        "hàm lọc dữ liệu sheet ExpressionAverage\n"
      ],
      "metadata": {
        "id": "viM-Fi8MCuxG"
      }
    },
    {
      "cell_type": "code",
      "source": [
        "# def clean_expression_sheet(df, required_cols=[\"Expression\"]):\n",
        "#     # Xóa cột không tên\n",
        "#     df = df.loc[:, ~df.columns.str.contains(\"^Unnamed\")]\n",
        "\n",
        "#     # Xóa dòng thiếu cột bắt buộc\n",
        "#     df = df.dropna(subset=required_cols)\n",
        "\n",
        "#     # Loại bỏ các biểu cảm không dùng\n",
        "#     df = df[~df[\"Expression\"].str.lower().str.contains(\"pms13\")]\n",
        "#     df = df[~df[\"Expression\"].str.lower().str.contains(\"facegenpro_avgblackface\")]\n",
        "\n",
        "#     # Các cột cần ép kiểu và xử lý NaN\n",
        "#     numeric_cols = [\"ThreatRating\", \"ConfusionRating\", \"ThreatComp\", \"ConfusionComp\"]\n",
        "#     for col in numeric_cols:\n",
        "#         if col in df.columns:\n",
        "#             df[col] = df[col].replace([\".\", \"\"], np.nan)\n",
        "#             df[col] = pd.to_numeric(df[col], errors=\"coerce\")\n",
        "#             df[col] = df[col].fillna(df[col].mean())\n",
        "\n",
        "#     # Loại bỏ các dòng liên quan face gen pro\n",
        "#     df = df[~df[\"Norming Survey\"].str.lower().str.contains(\"facegenpro\")]\n",
        "\n",
        "#     df = df.infer_objects(copy=False)\n",
        "\n",
        "#     return df\n"
      ],
      "metadata": {
        "id": "R4M-Qn2_bigB"
      },
      "execution_count": 47,
      "outputs": []
    },
    {
      "cell_type": "code",
      "source": [
        "def clean_expression_sheet(df, required_cols=[\"Expression\"]):\n",
        "    # Xóa cột không tên\n",
        "    df = df.loc[:, ~df.columns.str.contains(\"^Unnamed\")]\n",
        "\n",
        "    # Xóa dòng thiếu cột bắt buộc\n",
        "    df = df.dropna(subset=required_cols)\n",
        "\n",
        "    # Loại bỏ các biểu cảm không dùng\n",
        "    df = df[~df[\"Expression\"].str.lower().str.contains(\"pms13\")]\n",
        "    df = df[~df[\"Expression\"].str.lower().str.contains(\"facegenpro_avgblackface\")]\n",
        "\n",
        "    # ✅ Loại bỏ các dòng liên quan face gen pro TRƯỚC để không ảnh hưởng đến mean\n",
        "    df = df[~df[\"Norming Survey\"].str.lower().str.contains(\"facegenpro\")]\n",
        "\n",
        "    # Các cột cần ép kiểu và xử lý NaN\n",
        "    numeric_cols = [\"ThreatRating\", \"ConfusionRating\", \"ThreatComp\", \"ConfusionComp\"]\n",
        "    for col in numeric_cols:\n",
        "        if col in df.columns:\n",
        "            df[col] = df[col].replace([\".\", \"\"], np.nan)\n",
        "            df[col] = pd.to_numeric(df[col], errors=\"coerce\")\n",
        "            df[col] = df[col].fillna(df[col].mean())\n",
        "\n",
        "    df = df.infer_objects(copy=False)\n",
        "    return df\n"
      ],
      "metadata": {
        "id": "Et9vd0N-RshR"
      },
      "execution_count": 49,
      "outputs": []
    },
    {
      "cell_type": "markdown",
      "source": [
        "ExpressionAverages"
      ],
      "metadata": {
        "id": "AWnV_bRxbyIf"
      }
    },
    {
      "cell_type": "code",
      "source": [
        "df_expr = pd.read_excel(xls, sheet_name=\"ExpressionAverages\")\n",
        "# print(df_expr.dtypes)\n",
        "df_expr = clean_expression_sheet(df_expr)\n",
        "\n",
        "print(df_expr.to_string())"
      ],
      "metadata": {
        "id": "PmSLMyV-aXmb"
      },
      "execution_count": null,
      "outputs": []
    },
    {
      "cell_type": "markdown",
      "source": [
        "hàm lọc dữ liệu sheet slider_face_gen"
      ],
      "metadata": {
        "id": "wzqSbGf1JN-q"
      }
    },
    {
      "cell_type": "code",
      "source": [
        "def clean_slider_facegen_sheet(df):\n",
        "    # Xóa các cột không tên (thường là chú thích hoặc rỗng)\n",
        "    df = df.loc[:, ~df.columns.str.contains(\"^Unnamed\")]\n",
        "\n",
        "    # Loại bỏ cột 'PMS13' nếu có (theo khuyến nghị)\n",
        "    if \"PMS13\" in df.columns:\n",
        "        df = df.drop(columns=[\"PMS13\"])\n",
        "\n",
        "    # Duyệt qua tất cả các cột trừ 'Slider'\n",
        "    numeric_cols = df.columns.drop(\"Slider\")\n",
        "    for col in numeric_cols:\n",
        "        # Thay \".\" và chuỗi rỗng thành NaN\n",
        "        df[col] = df[col].replace([\".\", \"\"], np.nan)\n",
        "\n",
        "        # Ép kiểu thành số (sai sẽ thành NaN)\n",
        "        df[col] = pd.to_numeric(df[col], errors=\"coerce\")\n",
        "\n",
        "        # Điền thiếu bằng trung bình cột\n",
        "        df[col] = df[col].fillna(df[col].mean())\n",
        "\n",
        "    # Bỏ cảnh báo downcasting\n",
        "    df = df.infer_objects(copy=False)\n",
        "\n",
        "    return df\n"
      ],
      "metadata": {
        "id": "RspyNBNjIt5Z"
      },
      "execution_count": 21,
      "outputs": []
    },
    {
      "cell_type": "markdown",
      "source": [
        "Slider_face_gen"
      ],
      "metadata": {
        "id": "N0WkWBBVJ3h9"
      }
    },
    {
      "cell_type": "code",
      "source": [
        "df_slider_mo = pd.read_excel(xls, sheet_name=\"Sliders_FaceGenModeller\")\n",
        "# print(df_slider_mo.dtypes)\n",
        "df_slider_mo = clean_slider_facegen_sheet(df_slider_mo)\n",
        "print(df_slider_mo.to_string())"
      ],
      "metadata": {
        "id": "6a12ptpfb3T2"
      },
      "execution_count": null,
      "outputs": []
    },
    {
      "cell_type": "markdown",
      "source": [
        "hàm lọc first_pass_norming"
      ],
      "metadata": {
        "id": "f_DSoscku1qv"
      }
    },
    {
      "cell_type": "code",
      "source": [
        "def clean_first_pass_norming(df):\n",
        "    # 1. Loại cột pms13\n",
        "    df = df.loc[:, ~df.columns.str.contains(\"pms13\", case=False)]\n",
        "\n",
        "    # 2. Tính missing ratio\n",
        "    rating_cols = [c for c in df.columns if \"emotion\" in c.lower()]\n",
        "    miss_ratios = df[rating_cols].isna().mean()\n",
        "\n",
        "    # 3. Drop cột missing > 0.4\n",
        "    keep_cols = miss_ratios[miss_ratios <= 0.4].index.tolist()\n",
        "    df = df[keep_cols + [col for col in df.columns if col not in rating_cols]]\n",
        "\n",
        "    # 4. Với các cột rating còn lại:\n",
        "    #    - Nếu missing < 0.05, drop dòng\n",
        "    #    - Ngược lại impute bằng mode\n",
        "    small_missing = miss_ratios[miss_ratios < 0.05].index.tolist()\n",
        "    large_missing = miss_ratios[(miss_ratios >= 0.05) & (miss_ratios <= 0.4)].index.tolist()\n",
        "\n",
        "    df = df.dropna(subset=small_missing)  # drop rows\n",
        "    for col in large_missing:\n",
        "        mode_val = df[col].mode().iat[0]\n",
        "        df[col] = df[col].fillna(mode_val).astype(int)\n",
        "\n",
        "    return df"
      ],
      "metadata": {
        "id": "Ru4hiR8Df9IV"
      },
      "execution_count": 24,
      "outputs": []
    },
    {
      "cell_type": "markdown",
      "source": [
        "Fist_pass_norming"
      ],
      "metadata": {
        "id": "cgKNWUV6o2tv"
      }
    },
    {
      "cell_type": "code",
      "source": [
        "df_first = pd.read_excel(xls, sheet_name=\"FirstPassNorming\")\n",
        "df_first = clean_first_pass_norming(df_first)\n",
        "print(df_first.to_string())\n",
        "# df_first.head()\n"
      ],
      "metadata": {
        "id": "wV64NtATcYbR"
      },
      "execution_count": null,
      "outputs": []
    },
    {
      "cell_type": "markdown",
      "source": [
        "hàm lọc demographics"
      ],
      "metadata": {
        "id": "x9Wu-8q2qIIu"
      }
    },
    {
      "cell_type": "code",
      "source": [
        "def clean_demographics(df):\n",
        "  cols_to_drop = df.columns[6:20]\n",
        "\n",
        "  # Drop những cột đó\n",
        "  df = df.drop(columns=cols_to_drop)\n",
        "\n",
        "  return df"
      ],
      "metadata": {
        "id": "zVwD2Jprpmwx"
      },
      "execution_count": 29,
      "outputs": []
    },
    {
      "cell_type": "markdown",
      "source": [
        "Demographics"
      ],
      "metadata": {
        "id": "E9lUtVfHqLmc"
      }
    },
    {
      "cell_type": "code",
      "source": [
        "df_demographics = pd.read_excel(xls, sheet_name=\"Demographics\")\n",
        "df_demographics = clean_demographics(df_demographics)\n",
        "print(df_demographics.to_string())\n"
      ],
      "metadata": {
        "id": "kg0n-_e_qM5c"
      },
      "execution_count": null,
      "outputs": []
    },
    {
      "cell_type": "code",
      "source": [],
      "metadata": {
        "id": "P7A1VQl1rkZ3"
      },
      "execution_count": null,
      "outputs": []
    }
  ]
}