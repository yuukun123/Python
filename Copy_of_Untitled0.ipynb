{
  "nbformat": 4,
  "nbformat_minor": 0,
  "metadata": {
    "colab": {
      "provenance": [],
      "gpuType": "T4",
      "include_colab_link": true
    },
    "kernelspec": {
      "name": "python3",
      "display_name": "Python 3"
    },
    "language_info": {
      "name": "python"
    },
    "accelerator": "GPU"
  },
  "cells": [
    {
      "cell_type": "markdown",
      "metadata": {
        "id": "view-in-github",
        "colab_type": "text"
      },
      "source": [
        "<a href=\"https://colab.research.google.com/github/yuukun123/Python/blob/master/Copy_of_Untitled0.ipynb\" target=\"_parent\"><img src=\"https://colab.research.google.com/assets/colab-badge.svg\" alt=\"Open In Colab\"/></a>"
      ]
    },
    {
      "cell_type": "code",
      "execution_count": 21,
      "metadata": {
        "id": "uNSaEYpGofGR",
        "outputId": "a447f796-a603-409a-d76f-545df958ca2e",
        "colab": {
          "base_uri": "https://localhost:8080/"
        }
      },
      "outputs": [
        {
          "output_type": "stream",
          "name": "stdout",
          "text": [
            "Drive already mounted at /content/drive; to attempt to forcibly remount, call drive.mount(\"/content/drive\", force_remount=True).\n"
          ]
        }
      ],
      "source": [
        "import pandas as pd\n",
        "import matplotlib.pyplot as plt\n",
        "import seaborn as sns\n",
        "import numpy as np\n",
        "\n",
        "from google.colab import drive\n",
        "drive.mount('/content/drive')\n",
        "\n",
        "# Tùy chỉnh để hiển thị biểu đồ đẹp hơn\n",
        "sns.set(style=\"whitegrid\")"
      ]
    },
    {
      "cell_type": "code",
      "source": [
        "df = pd.read_excel(\"/content/drive/MyDrive/dataset_osfstorage-archive/NormingData/Final_Cleaned_Database.xlsx\")\n",
        "print(df.to_string())"
      ],
      "metadata": {
        "id": "MpRpabBMoeWg"
      },
      "execution_count": null,
      "outputs": []
    },
    {
      "cell_type": "code",
      "source": [
        "import pandas as pd\n",
        "\n",
        "# Đường dẫn file\n",
        "file_path = \"/content/drive/MyDrive/dataset_osfstorage-archive/NormingData/DelawarePainDatabase_SecondaryDatabase_FaceGenCharacterization.xlsx\"\n",
        "xls = pd.ExcelFile(file_path)"
      ],
      "metadata": {
        "id": "mKFpGS_9a3H9"
      },
      "execution_count": 13,
      "outputs": []
    },
    {
      "cell_type": "code",
      "source": [],
      "metadata": {
        "id": "cZtZ2Hh6zyuK",
        "outputId": "98ac370c-e343-43fe-ad04-032d3b155e8c",
        "colab": {
          "base_uri": "https://localhost:8080/"
        }
      },
      "execution_count": 15,
      "outputs": [
        {
          "output_type": "stream",
          "name": "stdout",
          "text": [
            "<pandas.io.excel._base.ExcelFile object at 0x7e85d4f89750>\n"
          ]
        }
      ]
    },
    {
      "cell_type": "code",
      "source": [
        "def clean_expression_sheet(df, required_cols=[\"Expression\"]):\n",
        "    # Xóa cột không tên\n",
        "    df = df.loc[:, ~df.columns.str.contains(\"^Unnamed\")]\n",
        "\n",
        "    # Xóa dòng thiếu cột bắt buộc\n",
        "    df = df.dropna(subset=required_cols)\n",
        "\n",
        "    # Loại bỏ các biểu cảm chứa 'pms13'\n",
        "    df = df[~df[\"Expression\"].str.lower().str.contains(\"pms13\")]\n",
        "\n",
        "    # Các cột cần ép kiểu và xử lý NaN\n",
        "    numeric_cols = [\"ThreatRating\", \"ConfusionRating\", \"ThreatComp\", \"ConfusionComp\"]\n",
        "\n",
        "    for col in numeric_cols:\n",
        "        if col in df.columns:\n",
        "            # Thay \".\" và chuỗi rỗng thành NaN\n",
        "            df[col] = df[col].replace([\".\", \"\"], np.nan)\n",
        "\n",
        "            # Ép kiểu float, xử lý lỗi bằng NaN\n",
        "            df[col] = pd.to_numeric(df[col], errors=\"coerce\")\n",
        "\n",
        "            # Điền NaN bằng giá trị trung bình của cột\n",
        "            df[col] = df[col].fillna(df[col].mean())\n",
        "\n",
        "    # Bỏ cảnh báo downcasting\n",
        "    df = df.infer_objects(copy=False)\n",
        "\n",
        "    return df\n"
      ],
      "metadata": {
        "id": "R4M-Qn2_bigB"
      },
      "execution_count": 25,
      "outputs": []
    },
    {
      "cell_type": "markdown",
      "source": [
        "ExpressionAverages"
      ],
      "metadata": {
        "id": "AWnV_bRxbyIf"
      }
    },
    {
      "cell_type": "code",
      "source": [
        "df_expr = pd.read_excel(xls, sheet_name=\"ExpressionAverages\")\n",
        "# Xem kiểu dữ liệu của từng cột\n",
        "print(df_expr.dtypes)\n",
        "df_expr = clean_expression_sheet(df_expr)\n",
        "\n",
        "print(df_expr.to_string())"
      ],
      "metadata": {
        "id": "PmSLMyV-aXmb"
      },
      "execution_count": null,
      "outputs": []
    },
    {
      "cell_type": "markdown",
      "source": [
        "FirstPassNorming"
      ],
      "metadata": {
        "id": "IK7uVZzVb1Bd"
      }
    },
    {
      "cell_type": "code",
      "source": [
        "df_slider_mo = pd.read_excel(xls, sheet_name=\"Sliders_FaceGenModeller\")\n",
        "df_slider_mo = df_slider_mo.drop(columns=['PMS13'])\n",
        "df_slider_mo = df_slider_mo.loc[:, ~df_slider_mo.columns.str.contains(\"^Unnamed\")]\n",
        "\n",
        "print(df_slider_mo.to_string())"
      ],
      "metadata": {
        "id": "6a12ptpfb3T2",
        "outputId": "baf8c569-cd7e-465a-a0e3-ffa29044bec2",
        "colab": {
          "base_uri": "https://localhost:8080/"
        }
      },
      "execution_count": 34,
      "outputs": [
        {
          "output_type": "stream",
          "name": "stdout",
          "text": [
            "            Slider   AK5   AJ2   EF5   KM4  KM4b  PMS5  PMS7 PMS14  PMS2  PMS8\n",
            "0            Anger  0.22     .  0.84     .     .  0.95  0.07  0.75  0.35  0.15\n",
            "1          Disgust  0.48  0.21  0.87  0.77  0.77     .     1  0.39  0.75     1\n",
            "2             Fear     .     1     .     .     .     .     .     .     .     .\n",
            "3              Sad  0.83     1     1     1     1     1     1     1     1     1\n",
            "4      SmileClosed     .     .  0.46     1     1   0.7     1     .     1     1\n",
            "5        SmileOpen     .   0.8  0.13     .   0.5  0.14  0.23  0.13     .     .\n",
            "6         Surprise     .     .     .     .     .     .     .     .   0.4   0.2\n",
            "7        BlinkLeft  0.56  0.15     .     .     .   0.2     .     .   0.3  0.13\n",
            "8       BlinkRIght  0.57  0.14     .     .     .  0.18     .     .   0.3  0.17\n",
            "9     BrowDownLeft     1     .  0.42     .     .     .     1     .   0.4  0.43\n",
            "10   BrowDownRight     1     .  0.42     .     .     .     1     .  0.54  0.44\n",
            "11      BrowInLeft     .     .     .     .     .     .     .     .     .     .\n",
            "12    BrownInRight     .     .     .     .     .     .     .     .     .     .\n",
            "13      BrowUpLeft     .     .     .     .     .     .     .     .     .     .\n",
            "14     BrowUpRight     .     .     .     .     .     .     .     .     .     .\n",
            "15         EarsOut     .     .     .     .     .     .     .     .     .     .\n",
            "16  EpicanthicFold  0.63     .     .  0.52  0.52     .     1  0.43     .  0.57\n",
            "17   EyeSquintLeft     .  0.45  0.38  0.85  0.85     .     .     1     .  0.33\n",
            "18  EyeSquintRight     .     .  0.39  0.85  0.85     .     .     1     .     .\n",
            "19        LookDown     .     .     .     .     .     .     .     .     .     .\n",
            "20        LookLeft     .     .     .     .     .     .     .     .     .     .\n",
            "21       LookRight     .     .     .     .     .     .     .     .     .     .\n",
            "22          LookUp     .     .     .     .     .     .     .     .     .     .\n",
            "23             aah  0.09  0.08     1     .     .     .     .     .     .     .\n",
            "24           B,M,P     .     .     .     1     1     1     1     .   0.4  0.22\n",
            "25         big aah     .     .  0.12     .     .     .     .     .     .     .\n",
            "26         ch,J,sh   0.5     .     .     .     .     .     .     .     .     .\n",
            "27           D,S,T     .     .     .     .     .     .     .     .   0.4     .\n",
            "28              ee     .     .     .     .     .     .     .     .     .     .\n",
            "29              eh     .     .     .     .     .     .     .     .     .     .\n",
            "30             F,V     .     .     .     1     1     .     .     .     .     .\n",
            "31               i     .     .     .     .     .     .     .     .     .     .\n",
            "32               K     .  0.29     .     .     .     .     .  0.83     .     .\n",
            "33               N     .  0.26     .     .     .     .     .     .     .     .\n",
            "34              oh  0.19     .  0.12     .     1     .     .     .     .     .\n",
            "35           ooh,Q     .     .     .     .     .     .     .     .     .     .\n",
            "36               R     .     .     .     .     .     .     .     .     .     .\n",
            "37              th     .     .     .     .     .     .     .     .     .     .\n",
            "38               W     .     .     .     .     .     .     .     .     .     .\n"
          ]
        },
        {
          "output_type": "stream",
          "name": "stderr",
          "text": [
            "/usr/local/lib/python3.11/dist-packages/openpyxl/worksheet/_reader.py:329: UserWarning: Unknown extension is not supported and will be removed\n",
            "  warn(msg)\n"
          ]
        }
      ]
    },
    {
      "cell_type": "markdown",
      "source": [],
      "metadata": {
        "id": "f_DSoscku1qv"
      }
    },
    {
      "cell_type": "code",
      "source": [],
      "metadata": {
        "id": "Ru4hiR8Df9IV"
      },
      "execution_count": null,
      "outputs": []
    },
    {
      "cell_type": "code",
      "source": [
        "df_first = pd.read_excel(xls, sheet_name=\"Sliders_FaceGenModeller\")\n",
        "print(df_first.columns.tolist())\n"
      ],
      "metadata": {
        "id": "wV64NtATcYbR",
        "outputId": "5bc20fcb-fd46-43d0-e7d1-aa0302dd3c29",
        "colab": {
          "base_uri": "https://localhost:8080/"
        }
      },
      "execution_count": 27,
      "outputs": [
        {
          "output_type": "stream",
          "name": "stdout",
          "text": [
            "['Slider', 'AK5', 'AJ2', 'EF5', 'KM4', 'KM4b', 'PMS5', 'PMS7', 'PMS14', 'PMS2', 'PMS8', 'PMS13', 'Unnamed: 12', 'Unnamed: 13']\n"
          ]
        },
        {
          "output_type": "stream",
          "name": "stderr",
          "text": [
            "/usr/local/lib/python3.11/dist-packages/openpyxl/worksheet/_reader.py:329: UserWarning: Unknown extension is not supported and will be removed\n",
            "  warn(msg)\n"
          ]
        }
      ]
    }
  ]
}