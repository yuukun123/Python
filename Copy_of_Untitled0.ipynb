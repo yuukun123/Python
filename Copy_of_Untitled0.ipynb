{
  "nbformat": 4,
  "nbformat_minor": 0,
  "metadata": {
    "colab": {
      "provenance": [],
      "gpuType": "T4",
      "include_colab_link": true
    },
    "kernelspec": {
      "name": "python3",
      "display_name": "Python 3"
    },
    "language_info": {
      "name": "python"
    },
    "accelerator": "GPU"
  },
  "cells": [
    {
      "cell_type": "markdown",
      "metadata": {
        "id": "view-in-github",
        "colab_type": "text"
      },
      "source": [
        "<a href=\"https://colab.research.google.com/github/yuukun123/Python/blob/master/Copy_of_Untitled0.ipynb\" target=\"_parent\"><img src=\"https://colab.research.google.com/assets/colab-badge.svg\" alt=\"Open In Colab\"/></a>"
      ]
    },
    {
      "cell_type": "code",
      "execution_count": 4,
      "metadata": {
        "id": "uNSaEYpGofGR",
        "outputId": "23d0589b-b764-4637-a55c-12807639e8f8",
        "colab": {
          "base_uri": "https://localhost:8080/"
        }
      },
      "outputs": [
        {
          "output_type": "stream",
          "name": "stdout",
          "text": [
            "Mounted at /content/drive\n"
          ]
        }
      ],
      "source": [
        "import pandas as pd\n",
        "import matplotlib.pyplot as plt\n",
        "import seaborn as sns\n",
        "import numpy as np\n",
        "\n",
        "from google.colab import drive\n",
        "drive.mount('/content/drive')\n",
        "\n",
        "# Tùy chỉnh để hiển thị biểu đồ đẹp hơn\n",
        "sns.set(style=\"whitegrid\")"
      ]
    },
    {
      "cell_type": "code",
      "source": [
        "df = pd.read_excel(\"/content/drive/MyDrive/dataset_osfstorage-archive/NormingData/Final_Cleaned_Database.xlsx\")\n",
        "print(df.to_string())"
      ],
      "metadata": {
        "id": "MpRpabBMoeWg"
      },
      "execution_count": null,
      "outputs": []
    },
    {
      "cell_type": "code",
      "source": [
        "# Đường dẫn file\n",
        "file_path = \"/content/drive/MyDrive/dataset_osfstorage-archive/NormingData/DelawarePainDatabase_SecondaryDatabase_FaceGenCharacterization.xlsx\"\n",
        "xls = pd.ExcelFile(file_path)"
      ],
      "metadata": {
        "id": "mKFpGS_9a3H9"
      },
      "execution_count": 5,
      "outputs": []
    },
    {
      "cell_type": "markdown",
      "source": [
        "hàm lọc dữ liệu sheet ExpressionAverage\n"
      ],
      "metadata": {
        "id": "viM-Fi8MCuxG"
      }
    },
    {
      "cell_type": "code",
      "source": [
        "# def clean_expression_sheet(df, required_cols=[\"Expression\"]):\n",
        "#     # Xóa cột không tên\n",
        "#     df = df.loc[:, ~df.columns.str.contains(\"^Unnamed\")]\n",
        "\n",
        "#     # Xóa dòng thiếu cột bắt buộc\n",
        "#     df = df.dropna(subset=required_cols)\n",
        "\n",
        "#     # Loại bỏ các biểu cảm không dùng\n",
        "#     df = df[~df[\"Expression\"].str.lower().str.contains(\"pms13\")]\n",
        "#     df = df[~df[\"Expression\"].str.lower().str.contains(\"facegenpro_avgblackface\")]\n",
        "\n",
        "#     # Các cột cần ép kiểu và xử lý NaN\n",
        "#     numeric_cols = [\"ThreatRating\", \"ConfusionRating\", \"ThreatComp\", \"ConfusionComp\"]\n",
        "#     for col in numeric_cols:\n",
        "#         if col in df.columns:\n",
        "#             df[col] = df[col].replace([\".\", \"\"], np.nan)\n",
        "#             df[col] = pd.to_numeric(df[col], errors=\"coerce\")\n",
        "#             df[col] = df[col].fillna(df[col].mean())\n",
        "\n",
        "#     # Loại bỏ các dòng liên quan face gen pro\n",
        "#     df = df[~df[\"Norming Survey\"].str.lower().str.contains(\"facegenpro\")]\n",
        "\n",
        "#     df = df.infer_objects(copy=False)\n",
        "\n",
        "#     return df\n"
      ],
      "metadata": {
        "id": "R4M-Qn2_bigB"
      },
      "execution_count": 47,
      "outputs": []
    },
    {
      "cell_type": "code",
      "source": [
        "def clean_expression_sheet(df, required_cols=[\"Expression\"]):\n",
        "    # Xóa cột không tên\n",
        "    df = df.loc[:, ~df.columns.str.contains(\"^Unnamed\")]\n",
        "\n",
        "    # Xóa dòng thiếu cột bắt buộc\n",
        "    df = df.dropna(subset=required_cols)\n",
        "\n",
        "    # Loại bỏ các biểu cảm không dùng\n",
        "    df = df[~df[\"Expression\"].str.lower().str.contains(\"pms13\")]\n",
        "    df = df[~df[\"Expression\"].str.lower().str.contains(\"facegenpro_avgblackface\")]\n",
        "\n",
        "    # ✅ Loại bỏ các dòng liên quan face gen pro TRƯỚC để không ảnh hưởng đến mean\n",
        "    df = df[~df[\"Norming Survey\"].str.lower().str.contains(\"facegenpro\")]\n",
        "\n",
        "    # Các cột cần ép kiểu và xử lý NaN\n",
        "    numeric_cols = [\"ThreatRating\", \"ConfusionRating\", \"ThreatComp\", \"ConfusionComp\"]\n",
        "    for col in numeric_cols:\n",
        "        if col in df.columns:\n",
        "            df[col] = df[col].replace([\".\", \"\"], np.nan)\n",
        "            df[col] = pd.to_numeric(df[col], errors=\"coerce\")\n",
        "            df[col] = df[col].fillna(df[col].mean())\n",
        "\n",
        "    df = df.infer_objects(copy=False)\n",
        "    return df\n"
      ],
      "metadata": {
        "id": "Et9vd0N-RshR"
      },
      "execution_count": 33,
      "outputs": []
    },
    {
      "cell_type": "markdown",
      "source": [
        "ExpressionAverages"
      ],
      "metadata": {
        "id": "AWnV_bRxbyIf"
      }
    },
    {
      "cell_type": "code",
      "source": [
        "df_expr = pd.read_excel(xls, sheet_name=\"ExpressionAverages\")\n",
        "# print(df_expr.dtypes)\n",
        "df_expr = clean_expression_sheet(df_expr)\n",
        "\n",
        "print(df_expr.to_string())"
      ],
      "metadata": {
        "id": "PmSLMyV-aXmb",
        "colab": {
          "base_uri": "https://localhost:8080/"
        },
        "outputId": "cbfc8c01-01ee-4f1c-9b63-96bf4c4533d7"
      },
      "execution_count": 36,
      "outputs": [
        {
          "output_type": "stream",
          "name": "stdout",
          "text": [
            "   Expression Norming Survey  PainRating  FearRating  AngerRating  DisgustRating  HappinessRating  SadnessRating  SurpriseRating  ThreatRating  ConfusionRating      FearComp     AngerComp   DisgustComp  HappinessComp   SadnessComp  SurpriseComp    ThreatComp  ConfusionComp\n",
            "0         AJ2      FirstPass    5.052632    2.894737     2.078947       2.421053         1.210526       3.131579        2.131579      1.736842              NaN  2.033766e-06  9.570970e-08  3.064130e-07   1.954638e-12  1.372440e-04  6.551333e-07  3.610371e-09            NaN\n",
            "3         AK5      FirstPass    4.650000    2.225000     2.725000       2.575000         1.275000       2.275000        1.725000      2.375000              NaN  7.102722e-09  4.114614e-05  2.849266e-06   6.427339e-13  3.038153e-08  1.352565e-10  1.223136e-07            NaN\n",
            "6         EF5      FirstPass    5.837838    2.594595     4.378378       3.162162         1.324324       1.864865        2.378378      3.351351              NaN  1.203900e-09  3.054509e-03  2.977539e-07   2.203910e-15  3.098174e-13  5.076302e-11  6.699533e-06            NaN\n",
            "9         KM4      FirstPass    5.421053    2.263158     1.684211       2.631579         1.184211       2.789474        1.552632      1.684211              NaN  2.284173e-10  2.479597e-13  4.326827e-08   3.833335e-17  1.450983e-08  8.305077e-14  2.417133e-12            NaN\n",
            "12       KM4b      FirstPass    5.135802    2.123457     1.901235       2.259259         1.333333       2.283951        2.061728      1.728395              NaN  3.438323e-18  4.736476e-22  1.621855e-15   3.900522e-25  5.081367e-16  4.779153e-16  2.982369e-21            NaN\n",
            "15       PMS5      FirstPass    5.410256    2.102564     2.512821       3.000000         1.641026       2.000000        1.769231      2.051282              NaN  8.686621e-11  4.813879e-09  1.491199e-06   3.988802e-12  6.894652e-11  3.069877e-12  2.769805e-10            NaN\n",
            "18       PMS7      FirstPass    5.425000    1.925000     2.050000       3.175000         1.100000       2.200000        1.475000      1.700000              NaN  1.950365e-13  5.405623e-10  1.181811e-04   7.754000e-18  2.112615e-10  7.137524e-15  6.145473e-13            NaN\n",
            "21      PMS14      FirstPass    5.234568    2.061728     2.901235       2.543210         1.506173       1.740741        1.901235      2.012346              NaN  2.323081e-18  1.664332e-11  2.735762e-12   1.973665e-20  2.897467e-21  6.030431e-18  2.577064e-19            NaN\n",
            "24       PMS2      FirstPass    4.926829    2.512195     2.268293       2.804878         2.073171       2.195122        2.170732      2.341463              NaN  7.436989e-09  6.356686e-09  9.771508e-06   2.559337e-06  4.255790e-10  1.521691e-08  4.450982e-08            NaN\n",
            "27       PMS8      FirstPass    5.282051    2.102564     2.051282       2.487179         1.589744       2.358974        1.666667      1.769231              NaN  3.390813e-12  1.569060e-11  1.025986e-07   4.465446e-11  6.421705e-10  2.123052e-12  1.958264e-12            NaN\n"
          ]
        },
        {
          "output_type": "stream",
          "name": "stderr",
          "text": [
            "/usr/local/lib/python3.11/dist-packages/openpyxl/worksheet/_reader.py:329: UserWarning: Unknown extension is not supported and will be removed\n",
            "  warn(msg)\n",
            "<ipython-input-33-00601f62e062>:19: FutureWarning: Downcasting behavior in `replace` is deprecated and will be removed in a future version. To retain the old behavior, explicitly call `result.infer_objects(copy=False)`. To opt-in to the future behavior, set `pd.set_option('future.no_silent_downcasting', True)`\n",
            "  df[col] = df[col].replace([\".\", \"\"], np.nan)\n"
          ]
        }
      ]
    },
    {
      "cell_type": "markdown",
      "source": [
        "hàm lọc dữ liệu sheet slider_face_gen"
      ],
      "metadata": {
        "id": "wzqSbGf1JN-q"
      }
    },
    {
      "cell_type": "code",
      "source": [
        "def clean_slider_facegen_sheet(df):\n",
        "    # Xóa các cột không tên (thường là chú thích hoặc rỗng)\n",
        "    df = df.loc[:, ~df.columns.str.contains(\"^Unnamed\")]\n",
        "\n",
        "    # Loại bỏ cột 'PMS13' nếu có (theo khuyến nghị)\n",
        "    if \"PMS13\" in df.columns:\n",
        "        df = df.drop(columns=[\"PMS13\"])\n",
        "\n",
        "    # Duyệt qua tất cả các cột trừ 'Slider'\n",
        "    numeric_cols = df.columns.drop(\"Slider\")\n",
        "    for col in numeric_cols:\n",
        "        # Thay \".\" và chuỗi rỗng thành NaN\n",
        "        df[col] = df[col].replace([\".\", \"\"], np.nan)\n",
        "\n",
        "        # Ép kiểu thành số (sai sẽ thành NaN)\n",
        "        df[col] = pd.to_numeric(df[col], errors=\"coerce\")\n",
        "\n",
        "        # Điền thiếu bằng trung bình cột\n",
        "        df[col] = df[col].fillna(df[col].mean())\n",
        "\n",
        "    # Bỏ cảnh báo downcasting\n",
        "    df = df.infer_objects(copy=False)\n",
        "\n",
        "    return df\n"
      ],
      "metadata": {
        "id": "RspyNBNjIt5Z"
      },
      "execution_count": 31,
      "outputs": []
    },
    {
      "cell_type": "markdown",
      "source": [
        "Slider_face_gen"
      ],
      "metadata": {
        "id": "N0WkWBBVJ3h9"
      }
    },
    {
      "cell_type": "code",
      "source": [
        "df_slider_mo = pd.read_excel(xls, sheet_name=\"Sliders_FaceGenModeller\")\n",
        "# print(df_slider_mo.dtypes)\n",
        "df_slider_mo = clean_slider_facegen_sheet(df_slider_mo)\n",
        "print(df_slider_mo.to_string())"
      ],
      "metadata": {
        "id": "6a12ptpfb3T2"
      },
      "execution_count": null,
      "outputs": []
    },
    {
      "cell_type": "markdown",
      "source": [
        "hàm lọc first_pass_norming"
      ],
      "metadata": {
        "id": "f_DSoscku1qv"
      }
    },
    {
      "cell_type": "code",
      "source": [
        "def clean_first_pass_norming(df):\n",
        "    # 1. Loại cột pms13\n",
        "    df = df.loc[:, ~df.columns.str.contains(\"pms13\", case=False)]\n",
        "\n",
        "    # 2. Tính missing ratio\n",
        "    rating_cols = [c for c in df.columns if \"emotion\" in c.lower()]\n",
        "    miss_ratios = df[rating_cols].isna().mean()\n",
        "\n",
        "    # 3. Drop cột missing > 0.4\n",
        "    keep_cols = miss_ratios[miss_ratios <= 0.4].index.tolist()\n",
        "    df = df[keep_cols + [col for col in df.columns if col not in rating_cols]]\n",
        "\n",
        "    # 4. Với các cột rating còn lại:\n",
        "    #    - Nếu missing < 0.05, drop dòng\n",
        "    #    - Ngược lại impute bằng mode\n",
        "    small_missing = miss_ratios[miss_ratios < 0.05].index.tolist()\n",
        "    large_missing = miss_ratios[(miss_ratios >= 0.05) & (miss_ratios <= 0.4)].index.tolist()\n",
        "\n",
        "    df = df.dropna(subset=small_missing)  # drop rows\n",
        "    for col in large_missing:\n",
        "        mode_val = df[col].mode().iat[0]\n",
        "        df[col] = df[col].fillna(mode_val).astype(int)\n",
        "\n",
        "    return df"
      ],
      "metadata": {
        "id": "Ru4hiR8Df9IV"
      },
      "execution_count": 24,
      "outputs": []
    },
    {
      "cell_type": "markdown",
      "source": [
        "Fist_pass_norming"
      ],
      "metadata": {
        "id": "cgKNWUV6o2tv"
      }
    },
    {
      "cell_type": "code",
      "source": [
        "df_first = pd.read_excel(xls, sheet_name=\"FirstPassNorming\")\n",
        "df_first = clean_first_pass_norming(df_first)\n",
        "print(df_first.to_string())\n",
        "# df_first.head()\n"
      ],
      "metadata": {
        "id": "wV64NtATcYbR"
      },
      "execution_count": null,
      "outputs": []
    },
    {
      "cell_type": "markdown",
      "source": [
        "hàm lọc demographics"
      ],
      "metadata": {
        "id": "x9Wu-8q2qIIu"
      }
    },
    {
      "cell_type": "code",
      "source": [
        "def clean_demographics(df):\n",
        "  cols_to_drop = df.columns[6:20]\n",
        "\n",
        "  # Drop những cột đó\n",
        "  df = df.drop(columns=cols_to_drop)\n",
        "\n",
        "  # xóa các ô có chữ Unnamed\n",
        "  df.columns = [col if 'Unnamed' not in col else '' for col in df.columns]\n",
        "\n",
        "  return df"
      ],
      "metadata": {
        "id": "zVwD2Jprpmwx"
      },
      "execution_count": 44,
      "outputs": []
    },
    {
      "cell_type": "markdown",
      "source": [
        "Demographics"
      ],
      "metadata": {
        "id": "E9lUtVfHqLmc"
      }
    },
    {
      "cell_type": "code",
      "source": [
        "df_demographics = pd.read_excel(xls, sheet_name=\"Demographics\")\n",
        "df_demographics = clean_demographics(df_demographics)\n",
        "print(df_demographics.to_string())\n"
      ],
      "metadata": {
        "colab": {
          "base_uri": "https://localhost:8080/"
        },
        "id": "kg0n-_e_qM5c",
        "outputId": "0dbae9d6-8f16-4af0-fdb3-11d9f5c151cb"
      },
      "execution_count": 45,
      "outputs": [
        {
          "output_type": "stream",
          "name": "stdout",
          "text": [
            "   FIRST PASS                                                                                  \n",
            "0         Age   Gender  SexualOrientation                 Race               Ideology  Ideology\n",
            "1          25   Female           Straight      Native American           Very Liberal         1\n",
            "2          26     Male           Straight      White/Caucasian       Somewhat liberal         3\n",
            "3          49  Female            Straight      White/Caucasian                Liberal         2\n",
            "4          32   Female           Straight      White/Caucasian           Conservative         6\n",
            "5          64   Female           Straight      White/Caucasian           Very Liberal         1\n",
            "6          36   Female           Straight      White/Caucasian                Liberal         2\n",
            "7          49     Male           Straight      White/Caucasian               Moderate         4\n",
            "8          32   Female           Straight      White/Caucasian               Moderate         4\n",
            "9          25     Male           Straight      White/Caucasian  Somewhat conservative         5\n",
            "10         24     Male           Straight      White/Caucasian               Moderate         4\n",
            "11         45   Female           Straight      White/Caucasian           Very Liberal         1\n",
            "12         32   Female           Straight      White/Caucasian  Somewhat conservative         5\n",
            "13         21     Male           Straight             Hispanic               Moderate         4\n",
            "14         39     Male           Straight                Asian       Somewhat liberal         3\n",
            "15         59   Female           Straight      White/Caucasian  Somewhat conservative         5\n",
            "16         31   Female           Straight     African American           Conservative         6\n",
            "17         39     Male           Straight      White/Caucasian  Somewhat conservative         5\n",
            "18         31     Male           Straight      White/Caucasian               Moderate         4\n",
            "19         39     Male           Straight      White/Caucasian               Moderate         4\n",
            "20         48   Female           Straight      White/Caucasian      Very conservative         7\n",
            "21         25     Male           Straight             Hispanic               Moderate         4\n",
            "22         40   Female           Straight      White/Caucasian                Liberal         2\n",
            "23         24     Male           Straight      White/Caucasian       Somewhat liberal         3\n",
            "24         40   Female           Straight      White/Caucasian  Somewhat conservative         5\n",
            "25         27     Male           Straight      White/Caucasian               Moderate         4\n",
            "26         36     Male           Straight      White/Caucasian                Liberal         2\n",
            "27         26   Female           Straight                Asian                Liberal         2\n",
            "28         35     Male           Straight                Asian               Moderate         4\n",
            "29         36     Male           Straight      White/Caucasian           Very Liberal         1\n",
            "30         26     Male           Straight      White/Caucasian           Very Liberal         1\n",
            "31         37     Male           Straight      White/Caucasian                Liberal         2\n",
            "32         61     Male           Straight      White/Caucasian           Conservative         6\n",
            "33         48     Male           Straight                Asian               Moderate         4\n",
            "34         31   Female           Straight      Native American           Very Liberal         1\n",
            "35         36   Female           Straight  Black, asian, white                Liberal         2\n",
            "36         33   Female           Straight             Hispanic               Moderate         4\n",
            "37         21   Female           Straight     African American               Moderate         4\n",
            "38         46     Male           Straight      White/Caucasian                Liberal         2\n",
            "39         46     Male           Straight      White/Caucasian      Very conservative         7\n",
            "40         40     Male           Straight      White/Caucasian           Very Liberal         1\n",
            "41         28   Female           Straight      White/Caucasian           Conservative         6\n",
            "42         44     Male           Straight      White/Caucasian                Liberal         2\n",
            "43         51   Female           Straight      White/Caucasian           Very Liberal         1\n",
            "44         45   Female           Straight     African American               Moderate         4\n",
            "45         49   Female           Straight     African American                Liberal         2\n",
            "46         31     Male           Straight      White/Caucasian           Conservative         6\n",
            "47         36     Male           Straight             Hispanic               Moderate         4\n",
            "48         20   Female           Straight     African American               Moderate         4\n",
            "49         43     Male           Straight                Asian      Very conservative         7\n",
            "50         23     Male           Straight      White/Caucasian               Moderate         4\n",
            "51         44   Female           Straight     African American                Liberal         2\n",
            "52         43   Female           Straight      White/Caucasian                Liberal         2\n",
            "53         52   Female           Straight      White/Caucasian               Moderate         4\n",
            "54         34     Male        Gay/Lesbian                Asian  Somewhat conservative         5\n",
            "55         75     Male           Straight      White/Caucasian               Moderate         4\n",
            "56         40   Female           Straight      White/Caucasian                      .         .\n",
            "57         39   Female           Straight                Asian               Moderate         4\n",
            "58         40   Female           Straight      White/Caucasian           Conservative         6\n",
            "59         61   Female           Straight      White/Caucasian       Somewhat liberal         3\n",
            "60         27   Female           Straight      White/Caucasian               Moderate         4\n",
            "61         49     Male           Straight                Asian           Conservative         6\n",
            "62         40   Female           Straight      White/Caucasian       Somewhat liberal         3\n",
            "63         29   Female           Straight                Asian                Liberal         2\n",
            "64         29    Male            Straight      White/Caucasian  Somewhat conservative         5\n",
            "65         25     Male           Straight             Hispanic  Somewhat conservative         5\n",
            "66         35   Female           Straight      Native American  Somewhat conservative         5\n",
            "67         68   Female           Straight      White/Caucasian  Somewhat conservative         5\n",
            "68         38   Female           Straight     African American               Moderate         4\n",
            "69         28     Male           Straight                Asian           Very Liberal         1\n",
            "70         22   Female           Straight             Hispanic               Moderate         4\n",
            "71         25   Female           Bisexual      White/Caucasian           Very Liberal         1\n",
            "72         45   Female           Straight      White/Caucasian                Liberal         2\n",
            "73         55   Female           Straight      White/Caucasian           Conservative         6\n",
            "74         54   Female           Straight      White/Caucasian           Conservative         6\n",
            "75         45     Male           Straight      White/Caucasian               Moderate         4\n",
            "76         32   Female           Straight      White/Caucasian                Liberal         2\n",
            "77         25   Female           Straight      White/Caucasian               Moderate         4\n",
            "78         35     Male           Straight                Asian                Liberal         2\n",
            "79         19   Female           Straight      White/Caucasian                Liberal         2\n",
            "80         25     Male           Straight      White/Caucasian                Liberal         2\n",
            "81         28   Female           Straight     African American       Somewhat liberal         3\n"
          ]
        },
        {
          "output_type": "stream",
          "name": "stderr",
          "text": [
            "/usr/local/lib/python3.11/dist-packages/openpyxl/worksheet/_reader.py:329: UserWarning: Unknown extension is not supported and will be removed\n",
            "  warn(msg)\n"
          ]
        }
      ]
    },
    {
      "cell_type": "code",
      "source": [
        "# Giả sử 4 DataFrame đã tồn tại: df_expr, df_slider_mo, df_first, df_demographics\n",
        "\n",
        "# Ghi vào file Excel với 4 sheet\n",
        "with pd.ExcelWriter('/content/drive/MyDrive/dataset_osfstorage-archive/NormingData/output_cleaned.xlsx') as writer:\n",
        "    df_expr.to_excel(writer, sheet_name='Expression', index=False)\n",
        "    df_slider_mo.to_excel(writer, sheet_name='Slider_MO', index=False)\n",
        "    df_first.to_excel(writer, sheet_name='First', index=False)\n",
        "    df_demographics.to_excel(writer, sheet_name='Demographics', index=False)\n"
      ],
      "metadata": {
        "id": "P7A1VQl1rkZ3"
      },
      "execution_count": 46,
      "outputs": []
    }
  ]
}